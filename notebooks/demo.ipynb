{
 "cells": [
  {
   "cell_type": "code",
   "execution_count": null,
   "id": "ead96d3a-706b-49e2-b4b2-cb2dc41a5426",
   "metadata": {},
   "outputs": [],
   "source": [
    "from models.persona_encoder import PersonaEncoder\n",
    "from prompts.template_builder import build_prompt\n",
    "from models.cot_generator import generate_cot\n",
    "\n",
    "persona = {\"name\": \"Lina\", \"age\": \"28\", \"occupation\": \"philosopher\"}\n",
    "question = \"Should AI have rights?\"\n",
    "\n",
    "enc = PersonaEncoder()\n",
    "static_vec = enc.encode_static(persona)\n",
    "enc.update_dynamic(\"I believe consciousness is not required for rights.\")\n",
    "dyn_vec = enc.get_dynamic_embedding()\n",
    "\n",
    "persona_summary = \"Philosopher who values sentient rights and believes machines may deserve moral consideration.\"\n",
    "prompt = build_prompt(persona_summary, question)\n",
    "print(generate_cot(prompt))\n"
   ]
  }
 ],
 "metadata": {
  "kernelspec": {
   "display_name": "Python 3 (ipykernel)",
   "language": "python",
   "name": "python3"
  },
  "language_info": {
   "codemirror_mode": {
    "name": "ipython",
    "version": 3
   },
   "file_extension": ".py",
   "mimetype": "text/x-python",
   "name": "python",
   "nbconvert_exporter": "python",
   "pygments_lexer": "ipython3",
   "version": "3.10.17"
  }
 },
 "nbformat": 4,
 "nbformat_minor": 5
}
